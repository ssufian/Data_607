{
 "cells": [
  {
   "cell_type": "code",
   "execution_count": 118,
   "metadata": {},
   "outputs": [],
   "source": [
    "import requests\n",
    "import json\n",
    "import pandas as pd\n",
    "import numpy as np\n",
    "import matplotlib as mpl\n",
    "import seaborn as sns\n",
    "import matplotlib.pyplot as plt\n",
    "plt.style.use('classic')\n",
    "\n",
    "from pandas.io.json import json_normalize #package for flattening json in pandas df"
   ]
  },
  {
   "cell_type": "code",
   "execution_count": 110,
   "metadata": {},
   "outputs": [
    {
     "name": "stdout",
     "output_type": "stream",
     "text": [
      "200\n"
     ]
    }
   ],
   "source": [
    "URL = 'https://api.nytimes.com/svc/mostpopular/v2/viewed/30.json?api-key='\n",
    "\n",
    "name = \"MfbAm3jsAPQ0UZ3kAxRGZ8SdbxcDVWQD\" # API Key\n",
    "\n",
    "x = requests.get('https://api.nytimes.com/svc/mostpopular/v2/viewed/30.json?api-key=MfbAm3jsAPQ0UZ3kAxRGZ8SdbxcDVWQD')\n",
    "print(x.status_code)"
   ]
  },
  {
   "cell_type": "code",
   "execution_count": 111,
   "metadata": {},
   "outputs": [
    {
     "name": "stdout",
     "output_type": "stream",
     "text": [
      "Success!\n"
     ]
    }
   ],
   "source": [
    "\n",
    "# checking for successful connection\n",
    "if x.status_code== 200:\n",
    "    print('Success!')\n",
    "elif x.status_code== 404:\n",
    "    print('Not Found.')"
   ]
  },
  {
   "cell_type": "code",
   "execution_count": 113,
   "metadata": {},
   "outputs": [
    {
     "name": "stdout",
     "output_type": "stream",
     "text": [
      "                                           copyright  num_results  \\\n",
      "0  Copyright (c) 2019 The New York Times Company....         1881   \n",
      "\n",
      "                                             results status  \n",
      "0  [{'url': 'https://www.nytimes.com/2019/10/13/u...     OK  \n"
     ]
    },
    {
     "data": {
      "text/html": [
       "<div>\n",
       "<style scoped>\n",
       "    .dataframe tbody tr th:only-of-type {\n",
       "        vertical-align: middle;\n",
       "    }\n",
       "\n",
       "    .dataframe tbody tr th {\n",
       "        vertical-align: top;\n",
       "    }\n",
       "\n",
       "    .dataframe thead th {\n",
       "        text-align: right;\n",
       "    }\n",
       "</style>\n",
       "<table border=\"1\" class=\"dataframe\">\n",
       "  <thead>\n",
       "    <tr style=\"text-align: right;\">\n",
       "      <th></th>\n",
       "      <th>status</th>\n",
       "      <th>copyright</th>\n",
       "      <th>num_results</th>\n",
       "      <th>results</th>\n",
       "    </tr>\n",
       "  </thead>\n",
       "  <tbody>\n",
       "    <tr>\n",
       "      <th>0</th>\n",
       "      <td>OK</td>\n",
       "      <td>Copyright (c) 2019 The New York Times Company....</td>\n",
       "      <td>1881</td>\n",
       "      <td>{'url': 'https://www.nytimes.com/2019/10/13/us...</td>\n",
       "    </tr>\n",
       "  </tbody>\n",
       "</table>\n",
       "</div>"
      ],
      "text/plain": [
       "  status                                          copyright  num_results  \\\n",
       "0     OK  Copyright (c) 2019 The New York Times Company....         1881   \n",
       "\n",
       "                                             results  \n",
       "0  {'url': 'https://www.nytimes.com/2019/10/13/us...  "
      ]
     },
     "execution_count": 113,
     "metadata": {},
     "output_type": "execute_result"
    }
   ],
   "source": [
    "\n",
    "\n",
    "j = x.json()\n",
    "#msgs = pd.io.json.json_normalize(j)\n",
    "\n",
    "\n",
    "json_normalize(j)\n",
    "df = pd.DataFrame.from_dict(j)\n",
    "df = pd.DataFrame.from_dict(j, orient='columns')\n",
    "print (json_normalize(j))\n",
    "df.head(1)"
   ]
  },
  {
   "cell_type": "code",
   "execution_count": 114,
   "metadata": {},
   "outputs": [
    {
     "data": {
      "text/html": [
       "<div>\n",
       "<style scoped>\n",
       "    .dataframe tbody tr th:only-of-type {\n",
       "        vertical-align: middle;\n",
       "    }\n",
       "\n",
       "    .dataframe tbody tr th {\n",
       "        vertical-align: top;\n",
       "    }\n",
       "\n",
       "    .dataframe thead th {\n",
       "        text-align: right;\n",
       "    }\n",
       "</style>\n",
       "<table border=\"1\" class=\"dataframe\">\n",
       "  <thead>\n",
       "    <tr style=\"text-align: right;\">\n",
       "      <th></th>\n",
       "      <th>abstract</th>\n",
       "      <th>adx_keywords</th>\n",
       "      <th>asset_id</th>\n",
       "      <th>byline</th>\n",
       "      <th>column</th>\n",
       "      <th>des_facet</th>\n",
       "      <th>geo_facet</th>\n",
       "      <th>id</th>\n",
       "      <th>media</th>\n",
       "      <th>org_facet</th>\n",
       "      <th>per_facet</th>\n",
       "      <th>published_date</th>\n",
       "      <th>section</th>\n",
       "      <th>source</th>\n",
       "      <th>title</th>\n",
       "      <th>type</th>\n",
       "      <th>uri</th>\n",
       "      <th>url</th>\n",
       "      <th>views</th>\n",
       "    </tr>\n",
       "  </thead>\n",
       "  <tbody>\n",
       "    <tr>\n",
       "      <th>0</th>\n",
       "      <td>The video was shown at a conference attended b...</td>\n",
       "      <td>Trump, Donald J;United States Politics and Gov...</td>\n",
       "      <td>100000006766586</td>\n",
       "      <td>By MICHAEL S. SCHMIDT and MAGGIE HABERMAN</td>\n",
       "      <td>NaN</td>\n",
       "      <td>[UNITED STATES POLITICS AND GOVERNMENT, PRESID...</td>\n",
       "      <td></td>\n",
       "      <td>100000006766586</td>\n",
       "      <td>[{'type': 'image', 'subtype': 'photo', 'captio...</td>\n",
       "      <td>[VIDEO RECORDINGS, DOWNLOADS AND STREAMING, VI...</td>\n",
       "      <td>[TRUMP, DONALD J, TRUMP, DONALD J JR]</td>\n",
       "      <td>2019-10-13</td>\n",
       "      <td>U.S.</td>\n",
       "      <td>The New York Times</td>\n",
       "      <td>Macabre Video of Fake Trump Shooting Media and...</td>\n",
       "      <td>Article</td>\n",
       "      <td>nyt://article/a1f124ab-6902-5b2c-a91f-e1c6dcd4...</td>\n",
       "      <td>https://www.nytimes.com/2019/10/13/us/politics...</td>\n",
       "      <td>1</td>\n",
       "    </tr>\n",
       "    <tr>\n",
       "      <th>1</th>\n",
       "      <td>We’ve plucked out the 50 best films currently ...</td>\n",
       "      <td>Netflix Inc;Movies;Video Recordings, Downloads...</td>\n",
       "      <td>100000006330108</td>\n",
       "      <td>By JASON BAILEY</td>\n",
       "      <td></td>\n",
       "      <td>[MOVIES, VIDEO RECORDINGS, DOWNLOADS AND STREA...</td>\n",
       "      <td></td>\n",
       "      <td>100000006330108</td>\n",
       "      <td>[{'type': 'image', 'subtype': 'photo', 'captio...</td>\n",
       "      <td>[NETFLIX INC]</td>\n",
       "      <td></td>\n",
       "      <td>2019-03-06</td>\n",
       "      <td>Arts</td>\n",
       "      <td>The New York Times</td>\n",
       "      <td>The 50 Best Movies on Netflix Right Now</td>\n",
       "      <td>Interactive</td>\n",
       "      <td>nyt://interactive/3769fe44-d294-5a71-8281-5220...</td>\n",
       "      <td>https://www.nytimes.com/interactive/2019/arts/...</td>\n",
       "      <td>2</td>\n",
       "    </tr>\n",
       "  </tbody>\n",
       "</table>\n",
       "</div>"
      ],
      "text/plain": [
       "                                            abstract  \\\n",
       "0  The video was shown at a conference attended b...   \n",
       "1  We’ve plucked out the 50 best films currently ...   \n",
       "\n",
       "                                        adx_keywords         asset_id  \\\n",
       "0  Trump, Donald J;United States Politics and Gov...  100000006766586   \n",
       "1  Netflix Inc;Movies;Video Recordings, Downloads...  100000006330108   \n",
       "\n",
       "                                      byline column  \\\n",
       "0  By MICHAEL S. SCHMIDT and MAGGIE HABERMAN    NaN   \n",
       "1                            By JASON BAILEY          \n",
       "\n",
       "                                           des_facet geo_facet  \\\n",
       "0  [UNITED STATES POLITICS AND GOVERNMENT, PRESID...             \n",
       "1  [MOVIES, VIDEO RECORDINGS, DOWNLOADS AND STREA...             \n",
       "\n",
       "                id                                              media  \\\n",
       "0  100000006766586  [{'type': 'image', 'subtype': 'photo', 'captio...   \n",
       "1  100000006330108  [{'type': 'image', 'subtype': 'photo', 'captio...   \n",
       "\n",
       "                                           org_facet  \\\n",
       "0  [VIDEO RECORDINGS, DOWNLOADS AND STREAMING, VI...   \n",
       "1                                      [NETFLIX INC]   \n",
       "\n",
       "                               per_facet published_date section  \\\n",
       "0  [TRUMP, DONALD J, TRUMP, DONALD J JR]     2019-10-13    U.S.   \n",
       "1                                            2019-03-06    Arts   \n",
       "\n",
       "               source                                              title  \\\n",
       "0  The New York Times  Macabre Video of Fake Trump Shooting Media and...   \n",
       "1  The New York Times            The 50 Best Movies on Netflix Right Now   \n",
       "\n",
       "          type                                                uri  \\\n",
       "0      Article  nyt://article/a1f124ab-6902-5b2c-a91f-e1c6dcd4...   \n",
       "1  Interactive  nyt://interactive/3769fe44-d294-5a71-8281-5220...   \n",
       "\n",
       "                                                 url  views  \n",
       "0  https://www.nytimes.com/2019/10/13/us/politics...      1  \n",
       "1  https://www.nytimes.com/interactive/2019/arts/...      2  "
      ]
     },
     "execution_count": 114,
     "metadata": {},
     "output_type": "execute_result"
    }
   ],
   "source": [
    "\n",
    "nycphil = json_normalize(j['results'])\n",
    "nycphil.head(2)"
   ]
  },
  {
   "cell_type": "code",
   "execution_count": 115,
   "metadata": {},
   "outputs": [
    {
     "data": {
      "text/plain": [
       "(20, 19)"
      ]
     },
     "execution_count": 115,
     "metadata": {},
     "output_type": "execute_result"
    }
   ],
   "source": [
    "nycphil.shape\n"
   ]
  },
  {
   "cell_type": "code",
   "execution_count": 116,
   "metadata": {},
   "outputs": [
    {
     "data": {
      "text/html": [
       "<div>\n",
       "<style scoped>\n",
       "    .dataframe tbody tr th:only-of-type {\n",
       "        vertical-align: middle;\n",
       "    }\n",
       "\n",
       "    .dataframe tbody tr th {\n",
       "        vertical-align: top;\n",
       "    }\n",
       "\n",
       "    .dataframe thead th {\n",
       "        text-align: right;\n",
       "    }\n",
       "</style>\n",
       "<table border=\"1\" class=\"dataframe\">\n",
       "  <thead>\n",
       "    <tr style=\"text-align: right;\">\n",
       "      <th></th>\n",
       "      <th>section</th>\n",
       "      <th>source</th>\n",
       "      <th>section_count</th>\n",
       "    </tr>\n",
       "  </thead>\n",
       "  <tbody>\n",
       "    <tr>\n",
       "      <th>0</th>\n",
       "      <td>Arts</td>\n",
       "      <td>The New York Times</td>\n",
       "      <td>1</td>\n",
       "    </tr>\n",
       "    <tr>\n",
       "      <th>1</th>\n",
       "      <td>Health</td>\n",
       "      <td>The New York Times</td>\n",
       "      <td>1</td>\n",
       "    </tr>\n",
       "    <tr>\n",
       "      <th>2</th>\n",
       "      <td>Movies</td>\n",
       "      <td>The New York Times</td>\n",
       "      <td>1</td>\n",
       "    </tr>\n",
       "    <tr>\n",
       "      <th>3</th>\n",
       "      <td>New York</td>\n",
       "      <td>The New York Times</td>\n",
       "      <td>1</td>\n",
       "    </tr>\n",
       "    <tr>\n",
       "      <th>4</th>\n",
       "      <td>Opinion</td>\n",
       "      <td>The New York Times</td>\n",
       "      <td>3</td>\n",
       "    </tr>\n",
       "    <tr>\n",
       "      <th>5</th>\n",
       "      <td>U.S.</td>\n",
       "      <td>The New York Times</td>\n",
       "      <td>12</td>\n",
       "    </tr>\n",
       "    <tr>\n",
       "      <th>6</th>\n",
       "      <td>World</td>\n",
       "      <td>The New York Times</td>\n",
       "      <td>1</td>\n",
       "    </tr>\n",
       "  </tbody>\n",
       "</table>\n",
       "</div>"
      ],
      "text/plain": [
       "    section              source  section_count\n",
       "0      Arts  The New York Times              1\n",
       "1    Health  The New York Times              1\n",
       "2    Movies  The New York Times              1\n",
       "3  New York  The New York Times              1\n",
       "4   Opinion  The New York Times              3\n",
       "5      U.S.  The New York Times             12\n",
       "6     World  The New York Times              1"
      ]
     },
     "execution_count": 116,
     "metadata": {},
     "output_type": "execute_result"
    }
   ],
   "source": [
    "\n",
    "pd.pivot_table(nycphil,index=[\"section\"])\n",
    "tmp = nycphil.groupby(by=['section','source'])['section'].count()\n",
    "tmp2 = pd.DataFrame({'section_count': tmp}).reset_index()\n",
    "tmp2"
   ]
  },
  {
   "cell_type": "code",
   "execution_count": 126,
   "metadata": {},
   "outputs": [
    {
     "data": {
      "image/png": "[encoded data removed]",
      "text/plain": [
       "<Figure size 640x320 with 1 Axes>"
      ]
     },
     "metadata": {},
     "output_type": "display_data"
    }
   ],
   "source": [
    "# Plot lastest \"hot\" articles of NY Times for last 30 days \n",
    "\n",
    "with sns.axes_style('darkgrid'):\n",
    "    g = sns.factorplot(\"section\", data=nycphil, aspect=2,\n",
    "                       kind=\"count\", color='steelblue')\n",
    "    g.set_xticklabels(step=5)"
   ]
  },
  {
   "cell_type": "code",
   "execution_count": null,
   "metadata": {},
   "outputs": [],
   "source": [
    "# The US sections has the most article"
   ]
  }
 ],
 "metadata": {
  "kernelspec": {
   "display_name": "Python 3",
   "language": "python",
   "name": "python3"
  },
  "language_info": {
   "codemirror_mode": {
    "name": "ipython",
    "version": 3
   },
   "file_extension": ".py",
   "mimetype": "text/x-python",
   "name": "python",
   "nbconvert_exporter": "python",
   "pygments_lexer": "ipython3",
   "version": "3.6.5"
  }
 },
 "nbformat": 4,
 "nbformat_minor": 2
}
